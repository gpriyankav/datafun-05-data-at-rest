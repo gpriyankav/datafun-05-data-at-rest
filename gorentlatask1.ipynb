{
 "cells": [
  {
   "cell_type": "code",
   "execution_count": 25,
   "id": "8cf900a1-60ac-4fc7-ba58-e562e4162f1a",
   "metadata": {},
   "outputs": [],
   "source": [
    "with open('accounts.txt',mode='w') as accounts:\n",
    "    accounts.write('100 Jones 24.98\\n')\n",
    "    accounts.write('200 Mike 324.98\\n')\n",
    "    accounts.write('300 Jack 0.00\\n')\n",
    "    accounts.write('400 Ross 424.98\\n')\n",
    "    accounts.write('500 Joy 624.98\\n')\n",
    "    accounts.write('600 Monica -42.98\\n')  "
   ]
  },
  {
   "cell_type": "markdown",
   "id": "c2817e25",
   "metadata": {},
   "source": [
    "//This statement will print only '100 Jones 24.98 line' in accounts.txt by removing all other lines"
   ]
  },
  {
   "cell_type": "code",
   "execution_count": 11,
   "id": "7862e0d2-6f4e-446e-a203-a7de2aa21da6",
   "metadata": {},
   "outputs": [],
   "source": [
    "with open('accounts.txt',mode='w') as accounts:\n",
    " print('100 Jones 24.98', file=accounts)"
   ]
  },
  {
   "cell_type": "code",
   "execution_count": 26,
   "id": "197c8f06-b6ef-411d-adf9-6ca53620bb67",
   "metadata": {},
   "outputs": [
    {
     "name": "stdout",
     "output_type": "stream",
     "text": [
      "Accounts  Name         Balance\n",
      "100       Jones          24.98\n",
      "200       Mike          324.98\n",
      "300       Jack            0.00\n",
      "400       Ross          424.98\n",
      "500       Joy           624.98\n",
      "600       Monica        -42.98\n"
     ]
    }
   ],
   "source": [
    "with open('accounts.txt',mode='r') as accounts:\n",
    "    print(f'{\"Accounts\":<10}{\"Name\":<10}{\"Balance\":>10}')\n",
    "    for record in accounts:\n",
    "        account,name,balance = record.split()\n",
    "        print(f'{account:<10}{name:<10}{balance:>10}')"
   ]
  },
  {
   "cell_type": "code",
   "execution_count": 27,
   "id": "38a1b285-63e0-4f0e-9004-c557e395d0e0",
   "metadata": {},
   "outputs": [],
   "source": [
    "accounts = open('accounts.txt','r')\n",
    "temp_file = open('temp_file.txt','w')\n",
    "with accounts,temp_file:\n",
    "    for record in accounts:\n",
    "        account,name,balance = record.split()\n",
    "        if account != '300':\n",
    "            temp_file.write(record)\n",
    "        else:\n",
    "            new_record = ' '.join([account,'Williams',balance])\n",
    "            temp_file.write(new_record + '\\n')"
   ]
  },
  {
   "cell_type": "code",
   "execution_count": 28,
   "id": "9c60230f",
   "metadata": {},
   "outputs": [],
   "source": [
    "import os\n",
    "os.remove('accounts.txt')"
   ]
  },
  {
   "cell_type": "code",
   "execution_count": 29,
   "id": "edcdd53f",
   "metadata": {},
   "outputs": [],
   "source": [
    "os.rename('temp_file.txt','accounts.txt')"
   ]
  },
  {
   "cell_type": "code",
   "execution_count": 16,
   "id": "080911b8",
   "metadata": {},
   "outputs": [],
   "source": [
    "accounts_dict = {'accounts':[\n",
    "    {'account':100, 'name': 'Jones', 'balance':24.98},\n",
    "    {'account':200, 'name': 'Doe', 'balance':345.67}]}\n",
    "import json\n",
    "with open('accounts.json','w') as accounts:\n",
    "    json.dump(accounts_dict,accounts)"
   ]
  },
  {
   "cell_type": "code",
   "execution_count": 17,
   "id": "c867cad2",
   "metadata": {},
   "outputs": [
    {
     "data": {
      "text/plain": [
       "{'accounts': [{'account': 100, 'name': 'Jones', 'balance': 24.98},\n",
       "  {'account': 200, 'name': 'Doe', 'balance': 345.67}]}"
      ]
     },
     "execution_count": 17,
     "metadata": {},
     "output_type": "execute_result"
    }
   ],
   "source": [
    "with open('accounts.json','r') as accounts:\n",
    "    accounts_json = json.load(accounts)\n",
    "\n",
    "accounts_json"
   ]
  },
  {
   "cell_type": "code",
   "execution_count": 18,
   "id": "04434e55",
   "metadata": {},
   "outputs": [
    {
     "data": {
      "text/plain": [
       "[{'account': 100, 'name': 'Jones', 'balance': 24.98},\n",
       " {'account': 200, 'name': 'Doe', 'balance': 345.67}]"
      ]
     },
     "execution_count": 18,
     "metadata": {},
     "output_type": "execute_result"
    }
   ],
   "source": [
    "accounts_json['accounts']"
   ]
  },
  {
   "cell_type": "code",
   "execution_count": 19,
   "id": "6bef72ae",
   "metadata": {},
   "outputs": [
    {
     "data": {
      "text/plain": [
       "{'account': 100, 'name': 'Jones', 'balance': 24.98}"
      ]
     },
     "execution_count": 19,
     "metadata": {},
     "output_type": "execute_result"
    }
   ],
   "source": [
    "accounts_json['accounts'][0]"
   ]
  },
  {
   "cell_type": "code",
   "execution_count": 20,
   "id": "1ea0a6f1",
   "metadata": {},
   "outputs": [
    {
     "data": {
      "text/plain": [
       "{'account': 200, 'name': 'Doe', 'balance': 345.67}"
      ]
     },
     "execution_count": 20,
     "metadata": {},
     "output_type": "execute_result"
    }
   ],
   "source": [
    "accounts_json['accounts'][1]"
   ]
  },
  {
   "cell_type": "code",
   "execution_count": 21,
   "id": "e7913bd7",
   "metadata": {},
   "outputs": [
    {
     "name": "stdout",
     "output_type": "stream",
     "text": [
      "{\n",
      "    \"accounts\": [\n",
      "        {\n",
      "            \"account\": 100,\n",
      "            \"name\": \"Jones\",\n",
      "            \"balance\": 24.98\n",
      "        },\n",
      "        {\n",
      "            \"account\": 200,\n",
      "            \"name\": \"Doe\",\n",
      "            \"balance\": 345.67\n",
      "        }\n",
      "    ]\n",
      "}\n"
     ]
    }
   ],
   "source": [
    "with open('accounts.json','r') as accounts:\n",
    "    print(json.dumps(json.load(accounts), indent=4))"
   ]
  },
  {
   "cell_type": "code",
   "execution_count": 22,
   "id": "097aed2c",
   "metadata": {},
   "outputs": [
    {
     "ename": "ZeroDivisionError",
     "evalue": "division by zero",
     "output_type": "error",
     "traceback": [
      "\u001b[1;31m---------------------------------------------------------------------------\u001b[0m",
      "\u001b[1;31mZeroDivisionError\u001b[0m                         Traceback (most recent call last)",
      "\u001b[1;32m~\\AppData\\Local\\Temp\\ipykernel_4936\\530406163.py\u001b[0m in \u001b[0;36m<module>\u001b[1;34m\u001b[0m\n\u001b[1;32m----> 1\u001b[1;33m \u001b[1;36m10\u001b[0m\u001b[1;33m/\u001b[0m\u001b[1;36m0\u001b[0m\u001b[1;33m\u001b[0m\u001b[1;33m\u001b[0m\u001b[0m\n\u001b[0m",
      "\u001b[1;31mZeroDivisionError\u001b[0m: division by zero"
     ]
    }
   ],
   "source": [
    "10/0"
   ]
  },
  {
   "cell_type": "code",
   "execution_count": null,
   "id": "78c45d84",
   "metadata": {},
   "outputs": [
    {
     "ename": "ValueError",
     "evalue": "invalid literal for int() with base 10: 'value'",
     "output_type": "error",
     "traceback": [
      "\u001b[1;31m---------------------------------------------------------------------------\u001b[0m",
      "\u001b[1;31mValueError\u001b[0m                                Traceback (most recent call last)",
      "Cell \u001b[1;32mIn[25], line 1\u001b[0m\n\u001b[1;32m----> 1\u001b[0m value \u001b[39m=\u001b[39m \u001b[39mint\u001b[39;49m(\u001b[39minput\u001b[39;49m(\u001b[39m'\u001b[39;49m\u001b[39mEnter an integer:\u001b[39;49m\u001b[39m'\u001b[39;49m))\n",
      "\u001b[1;31mValueError\u001b[0m: invalid literal for int() with base 10: 'value'"
     ]
    }
   ],
   "source": [
    "value = int(input('Enter an integer:'))"
   ]
  },
  {
   "cell_type": "code",
   "execution_count": null,
   "id": "ab254f23",
   "metadata": {},
   "outputs": [
    {
     "name": "stdout",
     "output_type": "stream",
     "text": [
      "Attempted to divide by zeroo,change denominator\n",
      "\n",
      "you must enter two integers\n",
      "\n",
      "80.000/30.000 = 2.667\n"
     ]
    }
   ],
   "source": [
    "#dividebyzero\n",
    "\"\"\"Simple Exception handling example.\"\"\"\n",
    "while True:\n",
    "     # attempt to convert and divide values\n",
    "    try:\n",
    "        number1 = int(input('Enter numerator: '))\n",
    "        number2 = int(input('Enter Denominator:'))\n",
    "        result = number1/number2\n",
    "    except ValueError: # tried to convert non-numeric value to int\n",
    "        print('you must enter two integers\\n')\n",
    "    except ZeroDivisionError: # denominator was 0\n",
    "        print('Attempted to divide by zeroo,change denominator\\n')\n",
    "    else: # executes only if no exceptions occur\n",
    "        print(f'{number1:.3f}/{number2:.3f} = {result:.3f}')\n",
    "        break #terminates loop  "
   ]
  },
  {
   "cell_type": "code",
   "execution_count": null,
   "id": "b1e93175",
   "metadata": {},
   "outputs": [
    {
     "name": "stdout",
     "output_type": "stream",
     "text": [
      "int(11.11) is 11\n",
      "Priyanka could not be converted to an integer\n"
     ]
    }
   ],
   "source": [
    "def try_it(value):\n",
    " try:\n",
    "    x = int(value)\n",
    " except ValueError:\n",
    "    print(f'{value} could not be converted to an integer')\n",
    " else:\n",
    "    print(f'int({value}) is {x}')\n",
    "try_it(11.11)\n",
    "try_it('Priyanka')"
   ]
  },
  {
   "cell_type": "code",
   "execution_count": null,
   "id": "4f1dcfb7",
   "metadata": {},
   "outputs": [
    {
     "name": "stdout",
     "output_type": "stream",
     "text": [
      "try suite with no exceptions raised\n",
      "else executes because no exceptions in the try suite\n",
      "finally always executes\n"
     ]
    }
   ],
   "source": [
    "try:\n",
    "    print('try suite with no exceptions raised')\n",
    "except:\n",
    "    print('this will not execute')\n",
    "else:\n",
    "    print('else executes because no exceptions in the try suite')\n",
    "finally:\n",
    "    print('finally always executes')"
   ]
  },
  {
   "cell_type": "code",
   "execution_count": null,
   "id": "2fac223f",
   "metadata": {},
   "outputs": [
    {
     "name": "stdout",
     "output_type": "stream",
     "text": [
      "try suite that raises an exception\n",
      "a ValueError occurred\n",
      "finally always executes\n"
     ]
    }
   ],
   "source": [
    "try:\n",
    "    print('try suite that raises an exception')\n",
    "    int('hello')\n",
    "    print('this will not execute')\n",
    "except ValueError:\n",
    "     print('a ValueError occurred')\n",
    "else:\n",
    "     print('else will not execute because an exception occurred')\n",
    "finally:\n",
    "    print('finally always executes')\n"
   ]
  },
  {
   "cell_type": "code",
   "execution_count": null,
   "id": "dc0bd6ac",
   "metadata": {},
   "outputs": [
    {
     "ename": "FileNotFoundError",
     "evalue": "[Errno 2] No such file or directory: 'gradez.txt'",
     "output_type": "error",
     "traceback": [
      "\u001b[1;31m---------------------------------------------------------------------------\u001b[0m",
      "\u001b[1;31mFileNotFoundError\u001b[0m                         Traceback (most recent call last)",
      "Cell \u001b[1;32mIn[31], line 1\u001b[0m\n\u001b[1;32m----> 1\u001b[0m \u001b[39mopen\u001b[39;49m(\u001b[39m'\u001b[39;49m\u001b[39mgradez.txt\u001b[39;49m\u001b[39m'\u001b[39;49m)\n",
      "File \u001b[1;32m~\\AppData\\Roaming\\Python\\Python311\\site-packages\\IPython\\core\\interactiveshell.py:282\u001b[0m, in \u001b[0;36m_modified_open\u001b[1;34m(file, *args, **kwargs)\u001b[0m\n\u001b[0;32m    275\u001b[0m \u001b[39mif\u001b[39;00m file \u001b[39min\u001b[39;00m {\u001b[39m0\u001b[39m, \u001b[39m1\u001b[39m, \u001b[39m2\u001b[39m}:\n\u001b[0;32m    276\u001b[0m     \u001b[39mraise\u001b[39;00m \u001b[39mValueError\u001b[39;00m(\n\u001b[0;32m    277\u001b[0m         \u001b[39mf\u001b[39m\u001b[39m\"\u001b[39m\u001b[39mIPython won\u001b[39m\u001b[39m'\u001b[39m\u001b[39mt let you open fd=\u001b[39m\u001b[39m{\u001b[39;00mfile\u001b[39m}\u001b[39;00m\u001b[39m by default \u001b[39m\u001b[39m\"\u001b[39m\n\u001b[0;32m    278\u001b[0m         \u001b[39m\"\u001b[39m\u001b[39mas it is likely to crash IPython. If you know what you are doing, \u001b[39m\u001b[39m\"\u001b[39m\n\u001b[0;32m    279\u001b[0m         \u001b[39m\"\u001b[39m\u001b[39myou can use builtins\u001b[39m\u001b[39m'\u001b[39m\u001b[39m open.\u001b[39m\u001b[39m\"\u001b[39m\n\u001b[0;32m    280\u001b[0m     )\n\u001b[1;32m--> 282\u001b[0m \u001b[39mreturn\u001b[39;00m io_open(file, \u001b[39m*\u001b[39;49margs, \u001b[39m*\u001b[39;49m\u001b[39m*\u001b[39;49mkwargs)\n",
      "\u001b[1;31mFileNotFoundError\u001b[0m: [Errno 2] No such file or directory: 'gradez.txt'"
     ]
    }
   ],
   "source": [
    "open('gradez.txt')"
   ]
  },
  {
   "cell_type": "code",
   "execution_count": null,
   "id": "f180424e",
   "metadata": {},
   "outputs": [
    {
     "name": "stdout",
     "output_type": "stream",
     "text": [
      "The file name you specified does not exist\n"
     ]
    }
   ],
   "source": [
    "try:\n",
    "    with open('gradez.txt','r') as accounts:\n",
    "        print(f'{\"ID\":<3}{\"Name\":<7}{\"Grade\"}')\n",
    "        for record in accounts:\n",
    "            student_id, name, grade = record.split()\n",
    "            print(f'{student_id:<3}{name:<7}{grade}')\n",
    "except FileNotFoundError:\n",
    "    print('The file name you specified does not exist')\n",
    "    "
   ]
  },
  {
   "cell_type": "code",
   "execution_count": null,
   "id": "4c3a6463",
   "metadata": {},
   "outputs": [
    {
     "ename": "Exception",
     "evalue": "An exception occured",
     "output_type": "error",
     "traceback": [
      "\u001b[1;31m---------------------------------------------------------------------------\u001b[0m",
      "\u001b[1;31mException\u001b[0m                                 Traceback (most recent call last)",
      "Cell \u001b[1;32mIn[33], line 5\u001b[0m\n\u001b[0;32m      3\u001b[0m \u001b[39mdef\u001b[39;00m \u001b[39mfunction2\u001b[39m():\n\u001b[0;32m      4\u001b[0m     \u001b[39mraise\u001b[39;00m \u001b[39mException\u001b[39;00m(\u001b[39m'\u001b[39m\u001b[39mAn exception occured\u001b[39m\u001b[39m'\u001b[39m)\n\u001b[1;32m----> 5\u001b[0m function1()\n",
      "Cell \u001b[1;32mIn[33], line 2\u001b[0m, in \u001b[0;36mfunction1\u001b[1;34m()\u001b[0m\n\u001b[0;32m      1\u001b[0m \u001b[39mdef\u001b[39;00m \u001b[39mfunction1\u001b[39m():\n\u001b[1;32m----> 2\u001b[0m     function2()\n",
      "Cell \u001b[1;32mIn[33], line 4\u001b[0m, in \u001b[0;36mfunction2\u001b[1;34m()\u001b[0m\n\u001b[0;32m      3\u001b[0m \u001b[39mdef\u001b[39;00m \u001b[39mfunction2\u001b[39m():\n\u001b[1;32m----> 4\u001b[0m     \u001b[39mraise\u001b[39;00m \u001b[39mException\u001b[39;00m(\u001b[39m'\u001b[39m\u001b[39mAn exception occured\u001b[39m\u001b[39m'\u001b[39m)\n",
      "\u001b[1;31mException\u001b[0m: An exception occured"
     ]
    }
   ],
   "source": [
    "def function1():\n",
    "    function2()\n",
    "def function2():\n",
    "    raise Exception('An exception occured')\n",
    "function1()"
   ]
  },
  {
   "cell_type": "code",
   "execution_count": null,
   "id": "33e0daca",
   "metadata": {},
   "outputs": [],
   "source": [
    "import csv\n",
    "with open('accounts.csv',mode='w',newline='') as accounts:\n",
    "    writer = csv.writer(accounts)\n",
    "    writer.writerow([100,'Joy', 24.98])\n",
    "    writer.writerow([200,'Chandler', 348.98])\n",
    "    writer.writerow([300,'Ross', 0.98])\n",
    "    writer.writerow([400,'Monica', -23.98])\n",
    "    writer.writerow([500,'rachel', 555.98])\n",
    "    writer.writerow([500,'Phoebe', 111.11])"
   ]
  },
  {
   "cell_type": "code",
   "execution_count": null,
   "id": "2337caf8",
   "metadata": {},
   "outputs": [
    {
     "name": "stdout",
     "output_type": "stream",
     "text": [
      "Account   Name         Balance\n",
      "100       Joy            24.98\n",
      "200       Chandler      348.98\n",
      "300       Ross            0.98\n",
      "400       Monica        -23.98\n",
      "500       rachel        555.98\n",
      "500       Phoebe        111.11\n"
     ]
    }
   ],
   "source": [
    "with open('accounts.csv', 'r', newline='') as accounts:\n",
    "    print(f'{\"Account\":<10}{\"Name\":<10}{\"Balance\":>10}')\n",
    "    reader = csv.reader(accounts)\n",
    "    for record in reader:\n",
    "        account, name, balance = record\n",
    "        print(f'{account:<10}{name:<10}{balance:>10}')"
   ]
  },
  {
   "cell_type": "code",
   "execution_count": null,
   "id": "a7abc179",
   "metadata": {},
   "outputs": [],
   "source": [
    "import csv\n",
    "with open('grades.csv', mode='w', newline='') as grades:\n",
    "    writer = csv.writer(grades)\n",
    "    writer.writerow([1, 'Red', 'A'])\n",
    "    writer.writerow([2, 'Green', 'B'])\n",
    "    writer.writerow([3, 'White', 'A'])"
   ]
  },
  {
   "cell_type": "code",
   "execution_count": null,
   "id": "67bd83a3",
   "metadata": {},
   "outputs": [
    {
     "name": "stdout",
     "output_type": "stream",
     "text": [
      "ID  Name   Grade\n",
      "1   Red    A\n",
      "2   Green  B\n",
      "3   White  A\n"
     ]
    }
   ],
   "source": [
    "with open('grades.csv', 'r', newline='') as grades:\n",
    "    print(f'{\"ID\":<4}{\"Name\":<7}{\"Grade\"}')\n",
    "    reader = csv.reader(grades)\n",
    "    for record in reader:\n",
    "        student_id, name, grade = record\n",
    "        print(f'{student_id:<4}{name:<7}{grade}')"
   ]
  }
 ],
 "metadata": {
  "kernelspec": {
   "display_name": "Python 3 (ipykernel)",
   "language": "python",
   "name": "python3"
  },
  "language_info": {
   "codemirror_mode": {
    "name": "ipython",
    "version": 3
   },
   "file_extension": ".py",
   "mimetype": "text/x-python",
   "name": "python",
   "nbconvert_exporter": "python",
   "pygments_lexer": "ipython3",
   "version": "3.9.13"
  },
  "vscode": {
   "interpreter": {
    "hash": "891fa0e227d4280f9c97174a22ec21a2ee550eec5349b4ce047c3328d4f22b7e"
   }
  }
 },
 "nbformat": 4,
 "nbformat_minor": 5
}
