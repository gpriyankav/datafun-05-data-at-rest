{
 "cells": [
  {
   "cell_type": "code",
   "execution_count": 1,
   "metadata": {},
   "outputs": [],
   "source": [
    "import csv\n",
    "with open('details.csv',mode='w',newline='') as details:\n",
    "    writer = csv.writer(details)\n",
    "    writer.writerow(['Priyanka','F',134.7])\n",
    "    writer.writerow(['Vijay','M',186.8])\n",
    "    writer.writerow(['Veerendra','M',170.3])\n",
    "    writer.writerow(['Vikram','M',213.5])\n",
    "    writer.writerow(['Rahul','M', 230.6])\n",
    "    writer.writerow(['Raasi','F', 151.1])"
   ]
  }
 ],
 "metadata": {
  "kernelspec": {
   "display_name": "Python 3",
   "language": "python",
   "name": "python3"
  },
  "language_info": {
   "codemirror_mode": {
    "name": "ipython",
    "version": 3
   },
   "file_extension": ".py",
   "mimetype": "text/x-python",
   "name": "python",
   "nbconvert_exporter": "python",
   "pygments_lexer": "ipython3",
   "version": "3.11.1 (tags/v3.11.1:a7a450f, Dec  6 2022, 19:58:39) [MSC v.1934 64 bit (AMD64)]"
  },
  "orig_nbformat": 4,
  "vscode": {
   "interpreter": {
    "hash": "63d9813c7ed66327f3a9d017da8b9941eac9d25c4d7479d93ff309ed5cf4ab85"
   }
  }
 },
 "nbformat": 4,
 "nbformat_minor": 2
}
